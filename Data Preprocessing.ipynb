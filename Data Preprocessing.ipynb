{
 "cells": [
  {
   "cell_type": "code",
   "execution_count": 4,
   "metadata": {
    "executionInfo": {
     "elapsed": 3927,
     "status": "ok",
     "timestamp": 1619476930704,
     "user": {
      "displayName": "2K18/CO/255 PRATEEK KUMAR",
      "photoUrl": "https://lh3.googleusercontent.com/a-/AOh14GiC24td7L6_hx_cF1QaHONUb-eXjy0d5Kfv-Cua=s64",
      "userId": "14371223947882262598"
     },
     "user_tz": -330
    },
    "id": "2VUNMfx17Jx6"
   },
   "outputs": [],
   "source": [
    "import os\n",
    "import shutil\n",
    "import pandas as pd\n",
    "import pickle\n",
    "import numpy as np\n",
    "import torch\n",
    "from torch import tensor\n",
    "from collections import Counter\n",
    "import pickle\n",
    "import re"
   ]
  },
  {
   "cell_type": "markdown",
   "metadata": {
    "id": "vqOXD5vB_1z9"
   },
   "source": [
    "### Glove_6B_50d [download from stanford](http://nlp.stanford.edu/data/glove.6B.zip)"
   ]
  },
  {
   "cell_type": "code",
   "execution_count": 12,
   "metadata": {
    "executionInfo": {
     "elapsed": 10042,
     "status": "ok",
     "timestamp": 1619477698198,
     "user": {
      "displayName": "2K18/CO/255 PRATEEK KUMAR",
      "photoUrl": "https://lh3.googleusercontent.com/a-/AOh14GiC24td7L6_hx_cF1QaHONUb-eXjy0d5Kfv-Cua=s64",
      "userId": "14371223947882262598"
     },
     "user_tz": -330
    },
    "id": "k_rVL5E3E2I1"
   },
   "outputs": [],
   "source": [
    "glove_vec={}\n",
    "with open('glove.6B.50d.txt','r') as f:\n",
    "    for i in f.read().split('\\n')[:-1]:\n",
    "        word=i.split()[0].lower()\n",
    "        vec=np.asarray(i.split()[1:],dtype='float32')\n",
    "        glove_vec[word]=vec"
   ]
  },
  {
   "cell_type": "code",
   "execution_count": 13,
   "metadata": {
    "colab": {
     "base_uri": "https://localhost:8080/"
    },
    "executionInfo": {
     "elapsed": 5077,
     "status": "ok",
     "timestamp": 1619477698216,
     "user": {
      "displayName": "2K18/CO/255 PRATEEK KUMAR",
      "photoUrl": "https://lh3.googleusercontent.com/a-/AOh14GiC24td7L6_hx_cF1QaHONUb-eXjy0d5Kfv-Cua=s64",
      "userId": "14371223947882262598"
     },
     "user_tz": -330
    },
    "id": "-_t1wXnIE2Dr",
    "outputId": "132d4a18-1f02-45a9-c414-f7b28204ec7f"
   },
   "outputs": [
    {
     "data": {
      "text/plain": [
       "(50,)"
      ]
     },
     "execution_count": 13,
     "metadata": {
      "tags": []
     },
     "output_type": "execute_result"
    }
   ],
   "source": [
    "glove_vec['the'].shape"
   ]
  },
  {
   "cell_type": "markdown",
   "metadata": {
    "id": "Dgh8MoWz-miz"
   },
   "source": [
    "### IMDB Dataset [download from kaggle](https://www.kaggle.com/lakshmi25npathi/imdb-dataset-of-50k-movie-reviews)"
   ]
  },
  {
   "cell_type": "code",
   "execution_count": 14,
   "metadata": {
    "colab": {
     "base_uri": "https://localhost:8080/",
     "height": 206
    },
    "executionInfo": {
     "elapsed": 2831,
     "status": "ok",
     "timestamp": 1619477710969,
     "user": {
      "displayName": "2K18/CO/255 PRATEEK KUMAR",
      "photoUrl": "https://lh3.googleusercontent.com/a-/AOh14GiC24td7L6_hx_cF1QaHONUb-eXjy0d5Kfv-Cua=s64",
      "userId": "14371223947882262598"
     },
     "user_tz": -330
    },
    "id": "V2i9KZmp-xTJ",
    "outputId": "4854ccdb-276c-4a02-fe0f-26db37d2c017"
   },
   "outputs": [
    {
     "data": {
      "text/html": [
       "<div>\n",
       "<style scoped>\n",
       "    .dataframe tbody tr th:only-of-type {\n",
       "        vertical-align: middle;\n",
       "    }\n",
       "\n",
       "    .dataframe tbody tr th {\n",
       "        vertical-align: top;\n",
       "    }\n",
       "\n",
       "    .dataframe thead th {\n",
       "        text-align: right;\n",
       "    }\n",
       "</style>\n",
       "<table border=\"1\" class=\"dataframe\">\n",
       "  <thead>\n",
       "    <tr style=\"text-align: right;\">\n",
       "      <th></th>\n",
       "      <th>review</th>\n",
       "      <th>sentiment</th>\n",
       "    </tr>\n",
       "  </thead>\n",
       "  <tbody>\n",
       "    <tr>\n",
       "      <th>0</th>\n",
       "      <td>One of the other reviewers has mentioned that ...</td>\n",
       "      <td>positive</td>\n",
       "    </tr>\n",
       "    <tr>\n",
       "      <th>1</th>\n",
       "      <td>A wonderful little production. &lt;br /&gt;&lt;br /&gt;The...</td>\n",
       "      <td>positive</td>\n",
       "    </tr>\n",
       "    <tr>\n",
       "      <th>2</th>\n",
       "      <td>I thought this was a wonderful way to spend ti...</td>\n",
       "      <td>positive</td>\n",
       "    </tr>\n",
       "    <tr>\n",
       "      <th>3</th>\n",
       "      <td>Basically there's a family where a little boy ...</td>\n",
       "      <td>negative</td>\n",
       "    </tr>\n",
       "    <tr>\n",
       "      <th>4</th>\n",
       "      <td>Petter Mattei's \"Love in the Time of Money\" is...</td>\n",
       "      <td>positive</td>\n",
       "    </tr>\n",
       "  </tbody>\n",
       "</table>\n",
       "</div>"
      ],
      "text/plain": [
       "                                              review sentiment\n",
       "0  One of the other reviewers has mentioned that ...  positive\n",
       "1  A wonderful little production. <br /><br />The...  positive\n",
       "2  I thought this was a wonderful way to spend ti...  positive\n",
       "3  Basically there's a family where a little boy ...  negative\n",
       "4  Petter Mattei's \"Love in the Time of Money\" is...  positive"
      ]
     },
     "execution_count": 14,
     "metadata": {
      "tags": []
     },
     "output_type": "execute_result"
    }
   ],
   "source": [
    "df=pd.read_csv('/content/IMDB Dataset.csv')\n",
    "df.head()"
   ]
  },
  {
   "cell_type": "markdown",
   "metadata": {
    "id": "AsMl330UFQmd"
   },
   "source": [
    "### Preprocessing"
   ]
  },
  {
   "cell_type": "code",
   "execution_count": 15,
   "metadata": {
    "executionInfo": {
     "elapsed": 1229,
     "status": "ok",
     "timestamp": 1619478022276,
     "user": {
      "displayName": "2K18/CO/255 PRATEEK KUMAR",
      "photoUrl": "https://lh3.googleusercontent.com/a-/AOh14GiC24td7L6_hx_cF1QaHONUb-eXjy0d5Kfv-Cua=s64",
      "userId": "14371223947882262598"
     },
     "user_tz": -330
    },
    "id": "05za53LKF5VK"
   },
   "outputs": [],
   "source": [
    "#function to convert reviews into lowercase and remove special characters\n",
    "def cleanText(df,column):\n",
    "    for i in range(df.shape[0]):\n",
    "        sents= str(df.loc[i,column]).lower()\n",
    "        df.loc[i,column]=re.sub('[^a-zA-Z]+',' ',sents)\n",
    "    return df"
   ]
  },
  {
   "cell_type": "code",
   "execution_count": 16,
   "metadata": {
    "executionInfo": {
     "elapsed": 18650,
     "status": "ok",
     "timestamp": 1619478040170,
     "user": {
      "displayName": "2K18/CO/255 PRATEEK KUMAR",
      "photoUrl": "https://lh3.googleusercontent.com/a-/AOh14GiC24td7L6_hx_cF1QaHONUb-eXjy0d5Kfv-Cua=s64",
      "userId": "14371223947882262598"
     },
     "user_tz": -330
    },
    "id": "pK0Cq5OiF8kR"
   },
   "outputs": [],
   "source": [
    "df=cleanText(df,'review')"
   ]
  },
  {
   "cell_type": "code",
   "execution_count": 17,
   "metadata": {
    "colab": {
     "base_uri": "https://localhost:8080/",
     "height": 206
    },
    "executionInfo": {
     "elapsed": 18122,
     "status": "ok",
     "timestamp": 1619478040194,
     "user": {
      "displayName": "2K18/CO/255 PRATEEK KUMAR",
      "photoUrl": "https://lh3.googleusercontent.com/a-/AOh14GiC24td7L6_hx_cF1QaHONUb-eXjy0d5Kfv-Cua=s64",
      "userId": "14371223947882262598"
     },
     "user_tz": -330
    },
    "id": "MpMyPjuZHp7m",
    "outputId": "9aa34d69-2d92-4e65-beae-399a0bd6825b"
   },
   "outputs": [
    {
     "data": {
      "text/html": [
       "<div>\n",
       "<style scoped>\n",
       "    .dataframe tbody tr th:only-of-type {\n",
       "        vertical-align: middle;\n",
       "    }\n",
       "\n",
       "    .dataframe tbody tr th {\n",
       "        vertical-align: top;\n",
       "    }\n",
       "\n",
       "    .dataframe thead th {\n",
       "        text-align: right;\n",
       "    }\n",
       "</style>\n",
       "<table border=\"1\" class=\"dataframe\">\n",
       "  <thead>\n",
       "    <tr style=\"text-align: right;\">\n",
       "      <th></th>\n",
       "      <th>review</th>\n",
       "      <th>sentiment</th>\n",
       "    </tr>\n",
       "  </thead>\n",
       "  <tbody>\n",
       "    <tr>\n",
       "      <th>0</th>\n",
       "      <td>one of the other reviewers has mentioned that ...</td>\n",
       "      <td>positive</td>\n",
       "    </tr>\n",
       "    <tr>\n",
       "      <th>1</th>\n",
       "      <td>a wonderful little production br br the filmin...</td>\n",
       "      <td>positive</td>\n",
       "    </tr>\n",
       "    <tr>\n",
       "      <th>2</th>\n",
       "      <td>i thought this was a wonderful way to spend ti...</td>\n",
       "      <td>positive</td>\n",
       "    </tr>\n",
       "    <tr>\n",
       "      <th>3</th>\n",
       "      <td>basically there s a family where a little boy ...</td>\n",
       "      <td>negative</td>\n",
       "    </tr>\n",
       "    <tr>\n",
       "      <th>4</th>\n",
       "      <td>petter mattei s love in the time of money is a...</td>\n",
       "      <td>positive</td>\n",
       "    </tr>\n",
       "  </tbody>\n",
       "</table>\n",
       "</div>"
      ],
      "text/plain": [
       "                                              review sentiment\n",
       "0  one of the other reviewers has mentioned that ...  positive\n",
       "1  a wonderful little production br br the filmin...  positive\n",
       "2  i thought this was a wonderful way to spend ti...  positive\n",
       "3  basically there s a family where a little boy ...  negative\n",
       "4  petter mattei s love in the time of money is a...  positive"
      ]
     },
     "execution_count": 17,
     "metadata": {
      "tags": []
     },
     "output_type": "execute_result"
    }
   ],
   "source": [
    "df.head()"
   ]
  },
  {
   "cell_type": "markdown",
   "metadata": {
    "id": "Q-FDbDkxdez-"
   },
   "source": [
    "### Creating a list of frequently Unique Words in the reviews."
   ]
  },
  {
   "cell_type": "code",
   "execution_count": 18,
   "metadata": {
    "colab": {
     "base_uri": "https://localhost:8080/"
    },
    "executionInfo": {
     "elapsed": 6146,
     "status": "ok",
     "timestamp": 1619478050231,
     "user": {
      "displayName": "2K18/CO/255 PRATEEK KUMAR",
      "photoUrl": "https://lh3.googleusercontent.com/a-/AOh14GiC24td7L6_hx_cF1QaHONUb-eXjy0d5Kfv-Cua=s64",
      "userId": "14371223947882262598"
     },
     "user_tz": -330
    },
    "id": "Jr8Q_XziFTGt",
    "outputId": "e8a203d7-4727-4a08-9cb2-cc0014fdc184"
   },
   "outputs": [
    {
     "name": "stdout",
     "output_type": "stream",
     "text": [
      "99426\n"
     ]
    }
   ],
   "source": [
    "\"\"\" creating vocablary\"\"\"\n",
    "\n",
    "def createVocab(df,column):\n",
    "    '''Given function pick top 15000 words'''\n",
    "    words=[]\n",
    "    for i in df[column]:\n",
    "        [words.append(w) for w in i.split()]\n",
    "    word_freq=Counter(words)\n",
    "    print(len(word_freq))\n",
    "    vocab=[]\n",
    "    for k,v in word_freq.items():\n",
    "        if len(k)>2 and v>=10 and k in glove_vec:\n",
    "            vocab.append(k)\n",
    "        if len(vocab)==15000:\n",
    "            break\n",
    "    return vocab\n",
    "\n",
    "vocab=createVocab(df,'review')"
   ]
  },
  {
   "cell_type": "code",
   "execution_count": 19,
   "metadata": {
    "colab": {
     "base_uri": "https://localhost:8080/"
    },
    "executionInfo": {
     "elapsed": 4147,
     "status": "ok",
     "timestamp": 1619478050236,
     "user": {
      "displayName": "2K18/CO/255 PRATEEK KUMAR",
      "photoUrl": "https://lh3.googleusercontent.com/a-/AOh14GiC24td7L6_hx_cF1QaHONUb-eXjy0d5Kfv-Cua=s64",
      "userId": "14371223947882262598"
     },
     "user_tz": -330
    },
    "id": "73Usg1v1QrwJ",
    "outputId": "0799f813-d68f-4c5a-f07a-f40225cca582"
   },
   "outputs": [
    {
     "name": "stdout",
     "output_type": "stream",
     "text": [
      "15000\n"
     ]
    }
   ],
   "source": [
    "print(len(vocab))"
   ]
  },
  {
   "cell_type": "code",
   "execution_count": 20,
   "metadata": {
    "executionInfo": {
     "elapsed": 905,
     "status": "ok",
     "timestamp": 1619478050240,
     "user": {
      "displayName": "2K18/CO/255 PRATEEK KUMAR",
      "photoUrl": "https://lh3.googleusercontent.com/a-/AOh14GiC24td7L6_hx_cF1QaHONUb-eXjy0d5Kfv-Cua=s64",
      "userId": "14371223947882262598"
     },
     "user_tz": -330
    },
    "id": "79sKYcyHFf-g"
   },
   "outputs": [],
   "source": [
    "\"\"\" label encoding words i.e linkinng words in the list to its index\"\"\"\n",
    "word_to_index={}\n",
    "index_to_word={}\n",
    "for i,w in enumerate(vocab):\n",
    "    word_to_index[w]=i+1\n",
    "    index_to_word[i+1]=w"
   ]
  },
  {
   "cell_type": "code",
   "execution_count": 22,
   "metadata": {
    "executionInfo": {
     "elapsed": 1222,
     "status": "ok",
     "timestamp": 1619478100085,
     "user": {
      "displayName": "2K18/CO/255 PRATEEK KUMAR",
      "photoUrl": "https://lh3.googleusercontent.com/a-/AOh14GiC24td7L6_hx_cF1QaHONUb-eXjy0d5Kfv-Cua=s64",
      "userId": "14371223947882262598"
     },
     "user_tz": -330
    },
    "id": "5skb96FWGHWk"
   },
   "outputs": [],
   "source": [
    "\"\"\" creating embed matrix\"\"\"\n",
    "embed_matrix=torch.zeros(len(vocab)+1,50)\n",
    "for i,v in index_to_word.items():\n",
    "    embed_matrix[i]=torch.from_numpy(glove_vec[v])"
   ]
  },
  {
   "cell_type": "code",
   "execution_count": 23,
   "metadata": {
    "colab": {
     "base_uri": "https://localhost:8080/"
    },
    "executionInfo": {
     "elapsed": 890,
     "status": "ok",
     "timestamp": 1619478106246,
     "user": {
      "displayName": "2K18/CO/255 PRATEEK KUMAR",
      "photoUrl": "https://lh3.googleusercontent.com/a-/AOh14GiC24td7L6_hx_cF1QaHONUb-eXjy0d5Kfv-Cua=s64",
      "userId": "14371223947882262598"
     },
     "user_tz": -330
    },
    "id": "lUCpePjoSNfD",
    "outputId": "f5d820cd-1def-40ee-8262-4945cdb51472"
   },
   "outputs": [
    {
     "data": {
      "text/plain": [
       "torch.Size([15001, 50])"
      ]
     },
     "execution_count": 23,
     "metadata": {
      "tags": []
     },
     "output_type": "execute_result"
    }
   ],
   "source": [
    "embed_matrix.shape"
   ]
  },
  {
   "cell_type": "markdown",
   "metadata": {
    "id": "_1yiU8wdeFto"
   },
   "source": [
    "### Converting textual sentences into numeric list based on index of the words in the list"
   ]
  },
  {
   "cell_type": "code",
   "execution_count": 24,
   "metadata": {
    "executionInfo": {
     "elapsed": 1363,
     "status": "ok",
     "timestamp": 1619478191643,
     "user": {
      "displayName": "2K18/CO/255 PRATEEK KUMAR",
      "photoUrl": "https://lh3.googleusercontent.com/a-/AOh14GiC24td7L6_hx_cF1QaHONUb-eXjy0d5Kfv-Cua=s64",
      "userId": "14371223947882262598"
     },
     "user_tz": -330
    },
    "id": "84C8vX1oFlHW"
   },
   "outputs": [],
   "source": [
    "\"\"\" coverting reviews into label encoded sentences\"\"\"\n",
    "def sentsEncode(df,column,word_to_index):\n",
    "    df[column]=df[column].apply(lambda x: [word_to_index[w] for w in x.split() if w in word_to_index])\n",
    "    return df"
   ]
  },
  {
   "cell_type": "code",
   "execution_count": 25,
   "metadata": {
    "executionInfo": {
     "elapsed": 4640,
     "status": "ok",
     "timestamp": 1619478195613,
     "user": {
      "displayName": "2K18/CO/255 PRATEEK KUMAR",
      "photoUrl": "https://lh3.googleusercontent.com/a-/AOh14GiC24td7L6_hx_cF1QaHONUb-eXjy0d5Kfv-Cua=s64",
      "userId": "14371223947882262598"
     },
     "user_tz": -330
    },
    "id": "H5ruEEIwR-x6"
   },
   "outputs": [],
   "source": [
    "df_new=sentsEncode(df,'review',word_to_index)"
   ]
  },
  {
   "cell_type": "markdown",
   "metadata": {
    "id": "XASkZq9ej03X"
   },
   "source": [
    "### Each sentences with length more than 250 is clipped while those with less length are padded with extra zero\n",
    "#### Each positive review is assigned label 1 and negative review with label 0"
   ]
  },
  {
   "cell_type": "code",
   "execution_count": 26,
   "metadata": {
    "colab": {
     "base_uri": "https://localhost:8080/"
    },
    "executionInfo": {
     "elapsed": 1785,
     "status": "ok",
     "timestamp": 1619478199243,
     "user": {
      "displayName": "2K18/CO/255 PRATEEK KUMAR",
      "photoUrl": "https://lh3.googleusercontent.com/a-/AOh14GiC24td7L6_hx_cF1QaHONUb-eXjy0d5Kfv-Cua=s64",
      "userId": "14371223947882262598"
     },
     "user_tz": -330
    },
    "id": "9ujXRGJMSWRy",
    "outputId": "09f17613-195d-4c9f-b93e-9d77f537df8e"
   },
   "outputs": [
    {
     "name": "stdout",
     "output_type": "stream",
     "text": [
      "1774 31481 171\n"
     ]
    }
   ],
   "source": [
    "total=0\n",
    "max_len=0\n",
    "idx=-1\n",
    "for i in range(df.shape[0]):\n",
    "    total+=len(df.loc[i,'review'])\n",
    "    if max_len<len(df.loc[i,'review']):\n",
    "        max_len=max(max_len,len(df.loc[i,'review']))\n",
    "        idx=i\n",
    "print(max_len,idx,total//df.shape[0])"
   ]
  },
  {
   "cell_type": "code",
   "execution_count": 27,
   "metadata": {
    "executionInfo": {
     "elapsed": 1020,
     "status": "ok",
     "timestamp": 1619478204118,
     "user": {
      "displayName": "2K18/CO/255 PRATEEK KUMAR",
      "photoUrl": "https://lh3.googleusercontent.com/a-/AOh14GiC24td7L6_hx_cF1QaHONUb-eXjy0d5Kfv-Cua=s64",
      "userId": "14371223947882262598"
     },
     "user_tz": -330
    },
    "id": "Ezj5BZscZXoJ"
   },
   "outputs": [],
   "source": [
    "maxlen=250"
   ]
  },
  {
   "cell_type": "code",
   "execution_count": 28,
   "metadata": {
    "executionInfo": {
     "elapsed": 1039,
     "status": "ok",
     "timestamp": 1619478206847,
     "user": {
      "displayName": "2K18/CO/255 PRATEEK KUMAR",
      "photoUrl": "https://lh3.googleusercontent.com/a-/AOh14GiC24td7L6_hx_cF1QaHONUb-eXjy0d5Kfv-Cua=s64",
      "userId": "14371223947882262598"
     },
     "user_tz": -330
    },
    "id": "-nJss4q7r9ba"
   },
   "outputs": [],
   "source": [
    "dataset=[]"
   ]
  },
  {
   "cell_type": "code",
   "execution_count": 29,
   "metadata": {
    "executionInfo": {
     "elapsed": 4593,
     "status": "ok",
     "timestamp": 1619478376886,
     "user": {
      "displayName": "2K18/CO/255 PRATEEK KUMAR",
      "photoUrl": "https://lh3.googleusercontent.com/a-/AOh14GiC24td7L6_hx_cF1QaHONUb-eXjy0d5Kfv-Cua=s64",
      "userId": "14371223947882262598"
     },
     "user_tz": -330
    },
    "id": "mrUan9jhpOwc"
   },
   "outputs": [],
   "source": [
    "for i in range(df_new.shape[0]):\n",
    "    ln= len(df_new.loc[i,'review'])\n",
    "    label= 1 if df_new.loc[i,'sentiment']=='positive' else 0\n",
    "    sents=df_new.loc[i,'review'].copy()\n",
    "    if ln>=maxlen:\n",
    "        sents=sents[0:maxlen]\n",
    "    else:\n",
    "        while(len(sents)!=maxlen):\n",
    "            sents.append(0)\n",
    "    dataset.append((sents,label))"
   ]
  },
  {
   "cell_type": "code",
   "execution_count": 31,
   "metadata": {
    "colab": {
     "base_uri": "https://localhost:8080/"
    },
    "executionInfo": {
     "elapsed": 1323,
     "status": "ok",
     "timestamp": 1619478377661,
     "user": {
      "displayName": "2K18/CO/255 PRATEEK KUMAR",
      "photoUrl": "https://lh3.googleusercontent.com/a-/AOh14GiC24td7L6_hx_cF1QaHONUb-eXjy0d5Kfv-Cua=s64",
      "userId": "14371223947882262598"
     },
     "user_tz": -330
    },
    "id": "5pB1nR3DpOdJ",
    "outputId": "58e817c8-614f-4266-fdd9-8114aac89e6e"
   },
   "outputs": [
    {
     "data": {
      "text/plain": [
       "array(['positive', 'negative'], dtype=object)"
      ]
     },
     "execution_count": 31,
     "metadata": {
      "tags": []
     },
     "output_type": "execute_result"
    }
   ],
   "source": [
    "df_new['sentiment'].unique()"
   ]
  },
  {
   "cell_type": "code",
   "execution_count": 32,
   "metadata": {
    "executionInfo": {
     "elapsed": 1626,
     "status": "ok",
     "timestamp": 1619478381171,
     "user": {
      "displayName": "2K18/CO/255 PRATEEK KUMAR",
      "photoUrl": "https://lh3.googleusercontent.com/a-/AOh14GiC24td7L6_hx_cF1QaHONUb-eXjy0d5Kfv-Cua=s64",
      "userId": "14371223947882262598"
     },
     "user_tz": -330
    },
    "id": "Ji5o-0nRZgZS"
   },
   "outputs": [],
   "source": [
    "def fixedLength(df,column,maxlen):\n",
    "    for i in range(df.shape[0]):\n",
    "        if len(df.loc[i,'review'])>=maxlen:\n",
    "            df.loc[i,'review']=df.loc[i,'review'][:maxlen]\n",
    "        else:\n",
    "            sents=list(np.zeros((maxlen,),dtype='int64'))\n",
    "            sents=sents[:len(df.loc[i,'review'])]\n",
    "            df.loc[i,'review']=sents\n",
    "    return df"
   ]
  },
  {
   "cell_type": "markdown",
   "metadata": {
    "id": "idvX-pOGkjJ2"
   },
   "source": [
    "### Saving files for further training"
   ]
  },
  {
   "cell_type": "code",
   "execution_count": 33,
   "metadata": {
    "executionInfo": {
     "elapsed": 1817,
     "status": "ok",
     "timestamp": 1619478381987,
     "user": {
      "displayName": "2K18/CO/255 PRATEEK KUMAR",
      "photoUrl": "https://lh3.googleusercontent.com/a-/AOh14GiC24td7L6_hx_cF1QaHONUb-eXjy0d5Kfv-Cua=s64",
      "userId": "14371223947882262598"
     },
     "user_tz": -330
    },
    "id": "mqbpiYv9Fn9K"
   },
   "outputs": [],
   "source": [
    "with open('index_to_word.pkl','wb') as f:\n",
    "    pickle.dump(index_to_word,f)\n",
    "with open('word_to_index.pkl','wb') as f:\n",
    "    pickle.dump(word_to_index,f)\n",
    "with open('embed_tensor.pkl','wb') as f:\n",
    "    pickle.dump(embed_matrix,f)\n",
    "with open('imdb.pkl','wb') as f:\n",
    "    pickle.dump(dataset,f)"
   ]
  },
  {
   "cell_type": "code",
   "execution_count": null,
   "metadata": {
    "id": "bc6RBpBhs8Fi"
   },
   "outputs": [],
   "source": []
  }
 ],
 "metadata": {
  "colab": {
   "authorship_tag": "ABX9TyP+dof5QeuBDdheFW0jLyG3",
   "collapsed_sections": [],
   "mount_file_id": "1SBjVCJ2mW_1BmwAggPpt8qamFqCxOVkN",
   "name": "Data Preprocessing.ipynb",
   "provenance": []
  },
  "kernelspec": {
   "display_name": "Python 3",
   "language": "python",
   "name": "python3"
  },
  "language_info": {
   "codemirror_mode": {
    "name": "ipython",
    "version": 3
   },
   "file_extension": ".py",
   "mimetype": "text/x-python",
   "name": "python",
   "nbconvert_exporter": "python",
   "pygments_lexer": "ipython3",
   "version": "3.7.4"
  }
 },
 "nbformat": 4,
 "nbformat_minor": 1
}
