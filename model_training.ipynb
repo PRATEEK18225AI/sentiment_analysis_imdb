{
 "cells": [
  {
   "cell_type": "markdown",
   "metadata": {
    "id": "nCNqgAv3hyYm"
   },
   "source": [
    "\n",
    "### Importing Pytorch module\n",
    "\n"
   ]
  },
  {
   "cell_type": "code",
   "execution_count": 1,
   "metadata": {
    "executionInfo": {
     "elapsed": 5360,
     "status": "ok",
     "timestamp": 1619527303193,
     "user": {
      "displayName": "2K18/CO/255 PRATEEK KUMAR",
      "photoUrl": "https://lh3.googleusercontent.com/a-/AOh14GiC24td7L6_hx_cF1QaHONUb-eXjy0d5Kfv-Cua=s64",
      "userId": "14371223947882262598"
     },
     "user_tz": -330
    },
    "id": "sAGu-MbugXK9"
   },
   "outputs": [],
   "source": [
    "from torch import nn\n",
    "from torch.nn import functional as F\n",
    "import torch\n",
    "from torch.utils.data import DataLoader,Dataset\n",
    "from torch import tensor\n",
    "from torch.optim import Adam"
   ]
  },
  {
   "cell_type": "markdown",
   "metadata": {
    "id": "DuYb4AeRh9Rk"
   },
   "source": [
    "### Other packages"
   ]
  },
  {
   "cell_type": "code",
   "execution_count": 44,
   "metadata": {
    "executionInfo": {
     "elapsed": 1135,
     "status": "ok",
     "timestamp": 1619531212831,
     "user": {
      "displayName": "2K18/CO/255 PRATEEK KUMAR",
      "photoUrl": "https://lh3.googleusercontent.com/a-/AOh14GiC24td7L6_hx_cF1QaHONUb-eXjy0d5Kfv-Cua=s64",
      "userId": "14371223947882262598"
     },
     "user_tz": -330
    },
    "id": "szleOV8ihxxB"
   },
   "outputs": [],
   "source": [
    "import numpy as np\n",
    "import pickle\n",
    "import matplotlib.pyplot as plt\n",
    "import os\n",
    "import shutil\n",
    "import random\n",
    "from sklearn import metrics\n",
    "from sklearn.model_selection import train_test_split\n",
    "import pandas as pd"
   ]
  },
  {
   "cell_type": "markdown",
   "metadata": {
    "id": "pFgW-Z-9jdVA"
   },
   "source": [
    "### Checking GPU and moving data to GPU if available"
   ]
  },
  {
   "cell_type": "code",
   "execution_count": 3,
   "metadata": {
    "colab": {
     "base_uri": "https://localhost:8080/"
    },
    "executionInfo": {
     "elapsed": 7172,
     "status": "ok",
     "timestamp": 1619527305055,
     "user": {
      "displayName": "2K18/CO/255 PRATEEK KUMAR",
      "photoUrl": "https://lh3.googleusercontent.com/a-/AOh14GiC24td7L6_hx_cF1QaHONUb-eXjy0d5Kfv-Cua=s64",
      "userId": "14371223947882262598"
     },
     "user_tz": -330
    },
    "id": "AIBI36wohxtV",
    "outputId": "c52c9122-1508-4c8f-c42e-6bc7587b7150"
   },
   "outputs": [
    {
     "data": {
      "text/plain": [
       "device(type='cuda')"
      ]
     },
     "execution_count": 3,
     "metadata": {
      "tags": []
     },
     "output_type": "execute_result"
    }
   ],
   "source": [
    "device= torch.device('cuda' if torch.cuda.is_available() else 'cpu')\n",
    "device"
   ]
  },
  {
   "cell_type": "markdown",
   "metadata": {
    "id": "G84XHm97lk-2"
   },
   "source": [
    "### Loading Dataset and Preprocessed files"
   ]
  },
  {
   "cell_type": "code",
   "execution_count": 6,
   "metadata": {
    "executionInfo": {
     "elapsed": 12351,
     "status": "ok",
     "timestamp": 1619527333062,
     "user": {
      "displayName": "2K18/CO/255 PRATEEK KUMAR",
      "photoUrl": "https://lh3.googleusercontent.com/a-/AOh14GiC24td7L6_hx_cF1QaHONUb-eXjy0d5Kfv-Cua=s64",
      "userId": "14371223947882262598"
     },
     "user_tz": -330
    },
    "id": "l3z2pXxylqHe"
   },
   "outputs": [],
   "source": [
    "with open('/content/embed_tensor.pkl','rb') as f:\n",
    "    embed_tensor=pickle.load(f)\n",
    "with open('/content/imdb.pkl','rb') as f:\n",
    "    reviews=pickle.load(f)\n",
    "with open('/content/index_to_word.pkl','rb') as f:\n",
    "    index_to_word=pickle.load(f)\n",
    "with open('/content/word_to_index.pkl','rb') as f:\n",
    "    word_to_index=pickle.load(f)\n",
    "\n",
    "embed_tensor= embed_tensor.to(device)"
   ]
  },
  {
   "cell_type": "code",
   "execution_count": 7,
   "metadata": {
    "executionInfo": {
     "elapsed": 1201,
     "status": "ok",
     "timestamp": 1619527336599,
     "user": {
      "displayName": "2K18/CO/255 PRATEEK KUMAR",
      "photoUrl": "https://lh3.googleusercontent.com/a-/AOh14GiC24td7L6_hx_cF1QaHONUb-eXjy0d5Kfv-Cua=s64",
      "userId": "14371223947882262598"
     },
     "user_tz": -330
    },
    "id": "b4Q4slcXfNXN"
   },
   "outputs": [],
   "source": [
    "def datasplit(reviews):\n",
    "    y=[]\n",
    "    for i in reviews:\n",
    "        y.append(i[1])\n",
    "    train_set, val_set, _ , _ = train_test_split(reviews, y, test_size=0.1, random_state=42)\n",
    "    return train_set,val_set\n",
    "\n",
    "train,val=datasplit(reviews)"
   ]
  },
  {
   "cell_type": "code",
   "execution_count": 8,
   "metadata": {
    "executionInfo": {
     "elapsed": 1170,
     "status": "ok",
     "timestamp": 1619527340525,
     "user": {
      "displayName": "2K18/CO/255 PRATEEK KUMAR",
      "photoUrl": "https://lh3.googleusercontent.com/a-/AOh14GiC24td7L6_hx_cF1QaHONUb-eXjy0d5Kfv-Cua=s64",
      "userId": "14371223947882262598"
     },
     "user_tz": -330
    },
    "id": "QcWbvU8bUFbT"
   },
   "outputs": [],
   "source": [
    "class ReviewSet(Dataset):\n",
    "    def __init__(self,dataset):\n",
    "        self.dataset=dataset\n",
    "\n",
    "    def __len__(self):\n",
    "        return len(self.dataset)\n",
    "\n",
    "    def __getitem__(self,idx):\n",
    "        return torch.tensor(self.dataset[idx][0],dtype=torch.int64),self.dataset[idx][1]\n",
    "\n",
    "train_set=ReviewSet(train)\n",
    "val_set=ReviewSet(val)"
   ]
  },
  {
   "cell_type": "code",
   "execution_count": 9,
   "metadata": {
    "executionInfo": {
     "elapsed": 1149,
     "status": "ok",
     "timestamp": 1619527342392,
     "user": {
      "displayName": "2K18/CO/255 PRATEEK KUMAR",
      "photoUrl": "https://lh3.googleusercontent.com/a-/AOh14GiC24td7L6_hx_cF1QaHONUb-eXjy0d5Kfv-Cua=s64",
      "userId": "14371223947882262598"
     },
     "user_tz": -330
    },
    "id": "tVM5M6fMeFGt"
   },
   "outputs": [],
   "source": [
    "def moveToDevice(x,y):\n",
    "    return x.to(device),y.to(device)"
   ]
  },
  {
   "cell_type": "markdown",
   "metadata": {
    "id": "qQtksiLolqoO"
   },
   "source": [
    "### Building the model"
   ]
  },
  {
   "cell_type": "code",
   "execution_count": 16,
   "metadata": {
    "colab": {
     "base_uri": "https://localhost:8080/"
    },
    "executionInfo": {
     "elapsed": 1432,
     "status": "ok",
     "timestamp": 1619527467092,
     "user": {
      "displayName": "2K18/CO/255 PRATEEK KUMAR",
      "photoUrl": "https://lh3.googleusercontent.com/a-/AOh14GiC24td7L6_hx_cF1QaHONUb-eXjy0d5Kfv-Cua=s64",
      "userId": "14371223947882262598"
     },
     "user_tz": -330
    },
    "id": "q9AaC6G3luei",
    "outputId": "e4bd275e-15f6-4f8c-8c65-04ece4c80075"
   },
   "outputs": [
    {
     "data": {
      "text/plain": [
       "Model(\n",
       "  (embed): Embedding(15001, 50, padding_idx=0)\n",
       "  (lstm): LSTM(50, 128, batch_first=True, bidirectional=True)\n",
       "  (dense1): Linear(in_features=256, out_features=2, bias=True)\n",
       ")"
      ]
     },
     "execution_count": 16,
     "metadata": {
      "tags": []
     },
     "output_type": "execute_result"
    }
   ],
   "source": [
    "class Model(nn.Module):\n",
    "    def __init__(self,input_size,hidden_size,num_layers):\n",
    "        super(Model,self).__init__()\n",
    "        self.input_size=input_size\n",
    "        self.hidden_size=hidden_size\n",
    "        self.num_layers=num_layers\n",
    "        # Model Structure\n",
    "        self.embed=nn.Embedding(num_embeddings=embed_tensor.shape[0],embedding_dim=input_size,padding_idx=0)\n",
    "        self.embed.from_pretrained(embed_tensor)\n",
    "        self.embed.weight.requires_grad=False\n",
    "        self.lstm=nn.LSTM(input_size,hidden_size,num_layers=num_layers,batch_first=True,bidirectional=True)\n",
    "        self.dense1=nn.Linear(in_features=hidden_size*2,out_features=2)\n",
    "\n",
    "    def forward(self,t):\n",
    "        t=self.embed(t)\n",
    "        batch_size=t.shape[0]\n",
    "        h0=torch.zeros(self.num_layers*2,batch_size,self.hidden_size).to(device)\n",
    "        c0=torch.zeros(self.num_layers*2,batch_size,self.hidden_size).to(device)\n",
    "        t,_=self.lstm(t,(h0,c0))\n",
    "\n",
    "        t1= torch.max(t,dim=1)     # Max pooling\n",
    "        t2= torch.mean(t,dim=1)    # Average Pooling\n",
    "        t= t1+t2\n",
    "        t=F.dropout(t,0.3)\n",
    "        return self.dense1(t)\n",
    "model=Model(embed_tensor.shape[1],128,1)\n",
    "model.to(device)"
   ]
  },
  {
   "cell_type": "markdown",
   "metadata": {
    "id": "CiCfjTHIlwSE"
   },
   "source": [
    "### Training the model"
   ]
  },
  {
   "cell_type": "code",
   "execution_count": 11,
   "metadata": {
    "executionInfo": {
     "elapsed": 839,
     "status": "ok",
     "timestamp": 1619527365998,
     "user": {
      "displayName": "2K18/CO/255 PRATEEK KUMAR",
      "photoUrl": "https://lh3.googleusercontent.com/a-/AOh14GiC24td7L6_hx_cF1QaHONUb-eXjy0d5Kfv-Cua=s64",
      "userId": "14371223947882262598"
     },
     "user_tz": -330
    },
    "id": "mj2ONYzkpJjy"
   },
   "outputs": [],
   "source": [
    "os.mkdir('./weights')"
   ]
  },
  {
   "cell_type": "code",
   "execution_count": 17,
   "metadata": {
    "executionInfo": {
     "elapsed": 1165,
     "status": "ok",
     "timestamp": 1619527474132,
     "user": {
      "displayName": "2K18/CO/255 PRATEEK KUMAR",
      "photoUrl": "https://lh3.googleusercontent.com/a-/AOh14GiC24td7L6_hx_cF1QaHONUb-eXjy0d5Kfv-Cua=s64",
      "userId": "14371223947882262598"
     },
     "user_tz": -330
    },
    "id": "K048tNgQPmyt"
   },
   "outputs": [],
   "source": [
    "batch_size=64\n",
    "epochs=30\n",
    "optim= Adam(model.parameters(),lr=0.0001)"
   ]
  },
  {
   "cell_type": "code",
   "execution_count": 13,
   "metadata": {
    "executionInfo": {
     "elapsed": 759,
     "status": "ok",
     "timestamp": 1619527370872,
     "user": {
      "displayName": "2K18/CO/255 PRATEEK KUMAR",
      "photoUrl": "https://lh3.googleusercontent.com/a-/AOh14GiC24td7L6_hx_cF1QaHONUb-eXjy0d5Kfv-Cua=s64",
      "userId": "14371223947882262598"
     },
     "user_tz": -330
    },
    "id": "M7fw-v1xy4VG"
   },
   "outputs": [],
   "source": [
    "def accuracy(preds,labels):\n",
    "    return (torch.argmax(preds,dim=1)==labels).sum().item()"
   ]
  },
  {
   "cell_type": "code",
   "execution_count": 14,
   "metadata": {
    "executionInfo": {
     "elapsed": 1074,
     "status": "ok",
     "timestamp": 1619527426359,
     "user": {
      "displayName": "2K18/CO/255 PRATEEK KUMAR",
      "photoUrl": "https://lh3.googleusercontent.com/a-/AOh14GiC24td7L6_hx_cF1QaHONUb-eXjy0d5Kfv-Cua=s64",
      "userId": "14371223947882262598"
     },
     "user_tz": -330
    },
    "id": "dJKnCfoaSd-N"
   },
   "outputs": [],
   "source": [
    "total_size=len(reviews)\n",
    "train_size=len(train)\n",
    "val_size=len(val)"
   ]
  },
  {
   "cell_type": "code",
   "execution_count": 18,
   "metadata": {
    "colab": {
     "base_uri": "https://localhost:8080/",
     "height": 974
    },
    "executionInfo": {
     "elapsed": 412557,
     "status": "error",
     "timestamp": 1619527889713,
     "user": {
      "displayName": "2K18/CO/255 PRATEEK KUMAR",
      "photoUrl": "https://lh3.googleusercontent.com/a-/AOh14GiC24td7L6_hx_cF1QaHONUb-eXjy0d5Kfv-Cua=s64",
      "userId": "14371223947882262598"
     },
     "user_tz": -330
    },
    "id": "uCFOgaGnPmrh",
    "outputId": "2b647d91-7554-4b81-efa4-249ce6551bc9"
   },
   "outputs": [
    {
     "name": "stdout",
     "output_type": "stream",
     "text": [
      "training loss=0.6695964235075846, training accuracy=0.5934888888888888, val loss=0.632064931667768, val accuracy=0.6642 \n",
      "training loss=0.5897814013795188, training accuracy=0.6890888888888889, val loss=0.5801141846638459, val accuracy=0.701 \n",
      "training loss=0.5320959816107879, training accuracy=0.7365777777777778, val loss=0.5132493942211835, val accuracy=0.7552 \n",
      "training loss=0.47787372494490016, training accuracy=0.7750666666666667, val loss=0.47117452781934005, val accuracy=0.7756 \n",
      "training loss=0.4412183894710893, training accuracy=0.7952, val loss=0.44069403333541673, val accuracy=0.8036 \n",
      "training loss=0.4143971139896306, training accuracy=0.8113777777777778, val loss=0.4244639197221169, val accuracy=0.808 \n",
      "training loss=0.39820215765222544, training accuracy=0.8220222222222222, val loss=0.41720868265017486, val accuracy=0.815 \n",
      "training loss=0.38202275751240733, training accuracy=0.8301111111111111, val loss=0.4052038735304123, val accuracy=0.8172 \n",
      "training loss=0.3715051596568285, training accuracy=0.8336444444444444, val loss=0.40153765219908494, val accuracy=0.8162 \n",
      "training loss=0.3622602369758177, training accuracy=0.8394888888888888, val loss=0.3886695397205842, val accuracy=0.8232 \n",
      "training loss=0.35059035301293284, training accuracy=0.8454444444444444, val loss=0.385791479012905, val accuracy=0.8268 \n",
      "training loss=0.34569648883251175, training accuracy=0.8492444444444445, val loss=0.38556955926693404, val accuracy=0.829 \n",
      "training loss=0.3367217025622874, training accuracy=0.8528666666666667, val loss=0.379326897362868, val accuracy=0.833 \n",
      "training loss=0.3301281998116804, training accuracy=0.8553111111111111, val loss=0.37309675568189377, val accuracy=0.836 \n",
      "training loss=0.32326682540422486, training accuracy=0.8593555555555555, val loss=0.3804266515832681, val accuracy=0.8328 \n",
      "training loss=0.31741719808466573, training accuracy=0.8639777777777777, val loss=0.3760803099244069, val accuracy=0.83 \n",
      "training loss=0.313337927310599, training accuracy=0.8654, val loss=0.3730637249656213, val accuracy=0.8346 \n",
      "training loss=0.3044261864544148, training accuracy=0.8690888888888889, val loss=0.36288676621058047, val accuracy=0.8402 \n",
      "training loss=0.2995546857586626, training accuracy=0.8718, val loss=0.36884488776708263, val accuracy=0.8386 \n",
      "training loss=0.2966778606685093, training accuracy=0.8734444444444445, val loss=0.36424630135297775, val accuracy=0.8384 \n",
      "training loss=0.2903663456800313, training accuracy=0.8771333333333333, val loss=0.3650078208018572, val accuracy=0.8406 \n",
      "training loss=0.2855496504059218, training accuracy=0.8792444444444445, val loss=0.3779587978735948, val accuracy=0.8376 \n",
      "training loss=0.2778052677046693, training accuracy=0.8823555555555556, val loss=0.37436487391973156, val accuracy=0.8374 \n",
      "training loss=0.2774631807827, training accuracy=0.8833777777777778, val loss=0.3752512221152966, val accuracy=0.8378 \n",
      "training loss=0.2720319874701256, training accuracy=0.8863555555555556, val loss=0.3675913577660536, val accuracy=0.8412 \n",
      "training loss=0.26660968700309906, training accuracy=0.8889111111111111, val loss=0.3867312761453482, val accuracy=0.8404 \n",
      "training loss=0.2592868444272668, training accuracy=0.8921555555555556, val loss=0.3890644332919365, val accuracy=0.8384 \n",
      "training loss=0.25913544000254923, training accuracy=0.8926666666666667, val loss=0.3602935710014441, val accuracy=0.8496 \n",
      "training loss=0.25608607615803924, training accuracy=0.8921777777777777, val loss=0.3868082285118409, val accuracy=0.8338 \n",
      "training loss=0.24996872271171336, training accuracy=0.8958888888888888, val loss=0.3846715174806424, val accuracy=0.8398 \n"
     ]
    }
   ],
   "source": [
    "train_losses=[]\n",
    "val_losses=[]\n",
    "train_acc=[]\n",
    "val_acc=[]\n",
    "train_step= train_size//batch_size\n",
    "val_step=val_size//batch_size\n",
    "for i in range(epochs):\n",
    "    # Training\n",
    "    tloss=0\n",
    "    vloss=0\n",
    "    tacc=0\n",
    "    vacc=0\n",
    "    train_dl=DataLoader(train_set,batch_size,shuffle=True)\n",
    "    val_dl=DataLoader(val_set,batch_size,shuffle=True)\n",
    "    for x,y in train_dl:\n",
    "        x,y = moveToDevice(x,y)\n",
    "        optim.zero_grad()\n",
    "        y_pred=model(x)\n",
    "        loss=F.cross_entropy(y_pred,y)\n",
    "        loss.backward()\n",
    "        optim.step()\n",
    "        tloss+=loss.item()\n",
    "        tacc+=accuracy(y_pred,y)\n",
    "    tloss/=train_step\n",
    "    tacc=tacc/train_size\n",
    "    train_losses.append(tloss)\n",
    "    train_acc.append(tacc)\n",
    "    # Validating\n",
    "    with torch.no_grad():\n",
    "        for x,y in val_dl:\n",
    "            x,y = moveToDevice(x,y)\n",
    "            y_pred=model(x)\n",
    "            loss=F.cross_entropy(y_pred,y)\n",
    "            vloss+=loss.item()\n",
    "            vacc+=accuracy(y_pred,y)\n",
    "        vloss/=val_step\n",
    "        vacc=vacc/val_size\n",
    "        val_losses.append(vloss)\n",
    "        val_acc.append(vacc)\n",
    "    print('training loss={}, training accuracy={}, val loss={}, val accuracy={} '.format(tloss,tacc,vloss,vacc))\n",
    "    torch.save(model.state_dict(), 'weights/epoch_{}.pth'.format(i+1))"
   ]
  },
  {
   "cell_type": "code",
   "execution_count": 19,
   "metadata": {
    "colab": {
     "base_uri": "https://localhost:8080/",
     "height": 949
    },
    "executionInfo": {
     "elapsed": 1442,
     "status": "ok",
     "timestamp": 1619527909575,
     "user": {
      "displayName": "2K18/CO/255 PRATEEK KUMAR",
      "photoUrl": "https://lh3.googleusercontent.com/a-/AOh14GiC24td7L6_hx_cF1QaHONUb-eXjy0d5Kfv-Cua=s64",
      "userId": "14371223947882262598"
     },
     "user_tz": -330
    },
    "id": "KWNZrIE-zFPC",
    "outputId": "599d129e-5957-4f31-b0df-e4e8410f3ce2"
   },
   "outputs": [
    {
     "data": {
      "image/png": "[encoded data removed]",
      "text/plain": [
       "<Figure size 576x576 with 1 Axes>"
      ]
     },
     "metadata": {
      "needs_background": "light",
      "tags": []
     },
     "output_type": "display_data"
    },
    {
     "data": {
      "image/png": "[encoded data removed]",
      "text/plain": [
       "<Figure size 576x576 with 1 Axes>"
      ]
     },
     "metadata": {
      "needs_background": "light",
      "tags": []
     },
     "output_type": "display_data"
    }
   ],
   "source": [
    "plt.figure(figsize=(8,8))\n",
    "plt.plot(train_losses,label='train_losses')\n",
    "plt.plot(val_losses,label='val_loss')\n",
    "plt.legend()\n",
    "plt.show()\n",
    "plt.figure(figsize=(8,8))\n",
    "plt.plot(train_acc,label='train_acc')\n",
    "plt.plot(val_acc,label='val_acc')\n",
    "plt.legend()\n",
    "plt.show()"
   ]
  },
  {
   "cell_type": "markdown",
   "metadata": {
    "id": "aHZqmQRWya5t"
   },
   "source": [
    "### Evaluating model on complete dataset"
   ]
  },
  {
   "cell_type": "code",
   "execution_count": 24,
   "metadata": {
    "colab": {
     "base_uri": "https://localhost:8080/"
    },
    "executionInfo": {
     "elapsed": 976,
     "status": "ok",
     "timestamp": 1619528203713,
     "user": {
      "displayName": "2K18/CO/255 PRATEEK KUMAR",
      "photoUrl": "https://lh3.googleusercontent.com/a-/AOh14GiC24td7L6_hx_cF1QaHONUb-eXjy0d5Kfv-Cua=s64",
      "userId": "14371223947882262598"
     },
     "user_tz": -330
    },
    "id": "JbQoSgnHLbG0",
    "outputId": "79439def-abc6-4e28-dd84-640a5c293207"
   },
   "outputs": [
    {
     "data": {
      "text/plain": [
       "28"
      ]
     },
     "execution_count": 24,
     "metadata": {
      "tags": []
     },
     "output_type": "execute_result"
    }
   ],
   "source": [
    "#Finding epoch with lowest validation loss\n",
    "best_epoch=np.argmin(val_losses)+1\n",
    "best_epoch"
   ]
  },
  {
   "cell_type": "code",
   "execution_count": 25,
   "metadata": {
    "colab": {
     "base_uri": "https://localhost:8080/"
    },
    "executionInfo": {
     "elapsed": 980,
     "status": "ok",
     "timestamp": 1619528606541,
     "user": {
      "displayName": "2K18/CO/255 PRATEEK KUMAR",
      "photoUrl": "https://lh3.googleusercontent.com/a-/AOh14GiC24td7L6_hx_cF1QaHONUb-eXjy0d5Kfv-Cua=s64",
      "userId": "14371223947882262598"
     },
     "user_tz": -330
    },
    "id": "MIZAqWIDZZLc",
    "outputId": "ea594bdc-bff1-4fba-d238-695d626c57ac"
   },
   "outputs": [
    {
     "data": {
      "text/plain": [
       "Model(\n",
       "  (embed): Embedding(15001, 50, padding_idx=0)\n",
       "  (lstm): LSTM(50, 128, batch_first=True, bidirectional=True)\n",
       "  (dense1): Linear(in_features=256, out_features=2, bias=True)\n",
       ")"
      ]
     },
     "execution_count": 25,
     "metadata": {
      "tags": []
     },
     "output_type": "execute_result"
    }
   ],
   "source": [
    "model.load_state_dict(torch.load(f'weights/epoch_{best_epoch}.pth'))\n",
    "model.eval()"
   ]
  },
  {
   "cell_type": "code",
   "execution_count": 45,
   "metadata": {
    "executionInfo": {
     "elapsed": 1047,
     "status": "ok",
     "timestamp": 1619531235403,
     "user": {
      "displayName": "2K18/CO/255 PRATEEK KUMAR",
      "photoUrl": "https://lh3.googleusercontent.com/a-/AOh14GiC24td7L6_hx_cF1QaHONUb-eXjy0d5Kfv-Cua=s64",
      "userId": "14371223947882262598"
     },
     "user_tz": -330
    },
    "id": "dBRwh3P-a2Jv"
   },
   "outputs": [],
   "source": [
    "def checkMetrics(model,reviews,batch_size):\n",
    "    dl=DataLoader(ReviewSet(reviews),batch_size)\n",
    "    step=len(reviews)//batch_size\n",
    "    total_loss=0\n",
    "    acc=0\n",
    "    y_true=[]\n",
    "    y_pred=[]\n",
    "    idx_to_label={0:'negative',1:'positive'}\n",
    "    with torch.no_grad():\n",
    "        for x,y in dl:\n",
    "            x,y = moveToDevice(x,y)\n",
    "            y_=model(x)\n",
    "            loss=F.cross_entropy(y_,y)\n",
    "            total_loss+=loss.item()\n",
    "            acc+=accuracy(y_,y)\n",
    "            y_=torch.argmax(y_,dim=1).cpu().numpy()\n",
    "            for i in range(batch_size):\n",
    "                y_true.append(idx_to_label[y[i].cpu().item()])\n",
    "                y_pred.append(idx_to_label[y_[i]])\n",
    "        total_loss/=step\n",
    "        acc/=len(reviews)\n",
    "    #Confusion Matrix\n",
    "    col=np.unique(y_true)\n",
    "    mat=metrics.confusion_matrix(y_true,y_pred)\n",
    "    data={col[n]+'-Pred':mat.T[n] for n in range(len(col))}\n",
    "    df=pd.DataFrame(data)\n",
    "    df.index=[i+'-Real' for i in col]\n",
    "    result={'pred':y_pred,'loss':total_loss,'acc':acc,'metrics':metrics.classification_report(y_true,y_pred),'confusion_matrix':df}\n",
    "    return result"
   ]
  },
  {
   "cell_type": "code",
   "execution_count": null,
   "metadata": {
    "id": "LpMZAQ9PfuB1"
   },
   "outputs": [],
   "source": [
    "result=checkMetrics(model,reviews,50)"
   ]
  },
  {
   "cell_type": "code",
   "execution_count": 47,
   "metadata": {
    "colab": {
     "base_uri": "https://localhost:8080/"
    },
    "executionInfo": {
     "elapsed": 816,
     "status": "ok",
     "timestamp": 1619531275687,
     "user": {
      "displayName": "2K18/CO/255 PRATEEK KUMAR",
      "photoUrl": "https://lh3.googleusercontent.com/a-/AOh14GiC24td7L6_hx_cF1QaHONUb-eXjy0d5Kfv-Cua=s64",
      "userId": "14371223947882262598"
     },
     "user_tz": -330
    },
    "id": "PSMhcXzJh-46",
    "outputId": "a8998918-231c-458e-b260-46caf15e337e"
   },
   "outputs": [
    {
     "name": "stdout",
     "output_type": "stream",
     "text": [
      "Loss=0.25254061636328695, Accuracy=0.89488\n",
      "              precision    recall  f1-score   support\n",
      "\n",
      "    negative       0.91      0.88      0.89     25000\n",
      "    positive       0.88      0.91      0.90     25000\n",
      "\n",
      "    accuracy                           0.89     50000\n",
      "   macro avg       0.90      0.89      0.89     50000\n",
      "weighted avg       0.90      0.89      0.89     50000\n",
      "\n"
     ]
    }
   ],
   "source": [
    "print(f\"Loss={result['loss']}, Accuracy={result['acc']}\")\n",
    "print(result['metrics'])"
   ]
  },
  {
   "cell_type": "code",
   "execution_count": 48,
   "metadata": {
    "colab": {
     "base_uri": "https://localhost:8080/",
     "height": 112
    },
    "executionInfo": {
     "elapsed": 883,
     "status": "ok",
     "timestamp": 1619531288163,
     "user": {
      "displayName": "2K18/CO/255 PRATEEK KUMAR",
      "photoUrl": "https://lh3.googleusercontent.com/a-/AOh14GiC24td7L6_hx_cF1QaHONUb-eXjy0d5Kfv-Cua=s64",
      "userId": "14371223947882262598"
     },
     "user_tz": -330
    },
    "id": "rTHsKrZrkWnm",
    "outputId": "e7e40300-9b96-457c-fce8-b5fb315f6a61"
   },
   "outputs": [
    {
     "data": {
      "text/html": [
       "<div>\n",
       "<style scoped>\n",
       "    .dataframe tbody tr th:only-of-type {\n",
       "        vertical-align: middle;\n",
       "    }\n",
       "\n",
       "    .dataframe tbody tr th {\n",
       "        vertical-align: top;\n",
       "    }\n",
       "\n",
       "    .dataframe thead th {\n",
       "        text-align: right;\n",
       "    }\n",
       "</style>\n",
       "<table border=\"1\" class=\"dataframe\">\n",
       "  <thead>\n",
       "    <tr style=\"text-align: right;\">\n",
       "      <th></th>\n",
       "      <th>negative-Pred</th>\n",
       "      <th>positive-Pred</th>\n",
       "    </tr>\n",
       "  </thead>\n",
       "  <tbody>\n",
       "    <tr>\n",
       "      <th>negative-Real</th>\n",
       "      <td>21984</td>\n",
       "      <td>3016</td>\n",
       "    </tr>\n",
       "    <tr>\n",
       "      <th>positive-Real</th>\n",
       "      <td>2240</td>\n",
       "      <td>22760</td>\n",
       "    </tr>\n",
       "  </tbody>\n",
       "</table>\n",
       "</div>"
      ],
      "text/plain": [
       "               negative-Pred  positive-Pred\n",
       "negative-Real          21984           3016\n",
       "positive-Real           2240          22760"
      ]
     },
     "execution_count": 48,
     "metadata": {
      "tags": []
     },
     "output_type": "execute_result"
    }
   ],
   "source": [
    "result['confusion_matrix']"
   ]
  },
  {
   "cell_type": "code",
   "execution_count": null,
   "metadata": {
    "id": "sW9z5xrWlkoO"
   },
   "outputs": [],
   "source": []
  }
 ],
 "metadata": {
  "accelerator": "GPU",
  "colab": {
   "authorship_tag": "ABX9TyOQ5TOrvF6vXoBr4vcCNHSl",
   "collapsed_sections": [],
   "mount_file_id": "1jh_Bjx02Af2wMeY9kE_uOTVS4xZo1CJU",
   "name": "model_training.ipynb",
   "provenance": []
  },
  "kernelspec": {
   "display_name": "Python 3",
   "language": "python",
   "name": "python3"
  },
  "language_info": {
   "codemirror_mode": {
    "name": "ipython",
    "version": 3
   },
   "file_extension": ".py",
   "mimetype": "text/x-python",
   "name": "python",
   "nbconvert_exporter": "python",
   "pygments_lexer": "ipython3",
   "version": "3.7.4"
  }
 },
 "nbformat": 4,
 "nbformat_minor": 1
}
